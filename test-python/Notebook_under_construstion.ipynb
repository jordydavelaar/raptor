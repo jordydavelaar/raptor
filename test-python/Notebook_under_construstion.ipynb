{
 "cells": [
  {
   "cell_type": "code",
   "execution_count": 1,
   "id": "18c5b782",
   "metadata": {
    "tags": []
   },
   "outputs": [],
   "source": [
    "import math\n",
    "import numpy as np\n",
    "import matplotlib\n",
    "matplotlib.use('Agg')\n",
    "import matplotlib.pyplot as plt\n",
    "import emoji\n",
    "from ipywidgets import Layout, interact, IntSlider,Label, HBox\n",
    "import ipywidgets as widgets\n",
    "import os\n",
    "import sys\n",
    "import h5py\n",
    "from pathlib import Path"
   ]
  },
  {
   "cell_type": "markdown",
   "id": "8836ab67",
   "metadata": {},
   "source": [
    "#### Put in the inputs"
   ]
  },
  {
   "cell_type": "code",
   "execution_count": 2,
   "id": "d4cdc91d-810f-48ce-98fd-30c6f696b888",
   "metadata": {
    "hide_input": true,
    "tags": []
   },
   "outputs": [
    {
     "data": {
      "application/vnd.jupyter.widget-view+json": {
       "model_id": "873eb3902ec84efd85a0e68608059492",
       "version_major": 2,
       "version_minor": 0
      },
      "text/plain": [
       "HBox(children=(Label(value='Inclination (Deg):'), IntSlider(value=0, max=180)))"
      ]
     },
     "metadata": {},
     "output_type": "display_data"
    },
    {
     "data": {
      "application/vnd.jupyter.widget-view+json": {
       "model_id": "3da7172389304686bdc0b9552b4e4b2b",
       "version_major": 2,
       "version_minor": 0
      },
      "text/plain": [
       "HBox(children=(Label(value='Image Width (Pixels):'), IntSlider(value=50, max=500, min=50)))"
      ]
     },
     "metadata": {},
     "output_type": "display_data"
    },
    {
     "data": {
      "application/vnd.jupyter.widget-view+json": {
       "model_id": "b0b59e79e4414a739932983de3c60b0e",
       "version_major": 2,
       "version_minor": 0
      },
      "text/plain": [
       "HBox(children=(Label(value='Image Height (Pixels):'), IntSlider(value=50, max=500, min=50)))"
      ]
     },
     "metadata": {},
     "output_type": "display_data"
    },
    {
     "data": {
      "application/vnd.jupyter.widget-view+json": {
       "model_id": "db1864c609b54d50bf779dfcd5add790",
       "version_major": 2,
       "version_minor": 0
      },
      "text/plain": [
       "HBox(children=(Label(value='Camera Size (X):'), IntSlider(value=15, max=20, min=15)))"
      ]
     },
     "metadata": {},
     "output_type": "display_data"
    },
    {
     "data": {
      "application/vnd.jupyter.widget-view+json": {
       "model_id": "a0d485bea5e6468093a9026efb08ac9b",
       "version_major": 2,
       "version_minor": 0
      },
      "text/plain": [
       "HBox(children=(Label(value='Camera Size (Y):'), IntSlider(value=15, max=20, min=15)))"
      ]
     },
     "metadata": {},
     "output_type": "display_data"
    },
    {
     "data": {
      "application/vnd.jupyter.widget-view+json": {
       "model_id": "fcc7360f961241bc9942922b07add3bf",
       "version_major": 2,
       "version_minor": 0
      },
      "text/plain": [
       "HBox(children=(Label(value='Frequency (x $10^{10}$) Hz:'), IntSlider(value=10, max=30, min=10)))"
      ]
     },
     "metadata": {},
     "output_type": "display_data"
    }
   ],
   "source": [
    "inclination = IntSlider(min=0,max=180,step=1) \n",
    "inclination_box = HBox([Label('Inclination (Deg):'), inclination])\n",
    "\n",
    "image_width = IntSlider(min=50,max=500,step=1)\n",
    "image_width_box = HBox([Label('Image Width (Pixels):'), image_width])\n",
    "\n",
    "image_height = IntSlider(min=50,max=500,step=1)\n",
    "image_height_box = HBox([Label('Image Height (Pixels):'), image_height])\n",
    "\n",
    "cam_x = IntSlider(min=15,max=20,step=1)\n",
    "cam_x_box = HBox([Label('Camera Size (X):'), cam_x])\n",
    "\n",
    "cam_y = IntSlider(min=15,max=20,step=1)\n",
    "cam_y_box = HBox([Label('Camera Size (Y):'), cam_y])\n",
    "\n",
    "Frequency = IntSlider(min=10,max=30,step=1)\n",
    "Frequency_box = HBox([Label('Frequency (x $10^{10}$) Hz:'), Frequency])\n",
    "\n",
    "display(inclination_box)\n",
    "display(image_width_box)\n",
    "display(image_height_box)\n",
    "display(cam_x_box)\n",
    "display(cam_y_box)\n",
    "display(Frequency_box)"
   ]
  },
  {
   "cell_type": "code",
   "execution_count": 4,
   "id": "e14418fb-5227-4a9a-a650-db7de973ac8e",
   "metadata": {
    "tags": []
   },
   "outputs": [],
   "source": [
    "MBH=1.233e43\n",
    "M_UNIT=2.739e25\n",
    "R_LOW=1\n",
    "R_HIGH=1\n",
    "\n",
    "INCLINATION = inclination.value\n",
    "IMG_WIDTH = image_width.value\n",
    "IMG_HEIGHT = image_height.value\n",
    "CAM_SIZE_X = cam_x.value\n",
    "CAM_SIZE_Y = cam_y.value\n",
    "FREQS_PER_DEC=1\n",
    "FREQ_MIN = Frequency.value*1.e10\n",
    "STEPSIZE = 0.05\n",
    "MAX_LEVEL = 1\n",
    "#Writing the model.in file \n",
    "f = open('model.in','r')\n",
    "text = f.readlines()\n",
    "f.close()\n",
    "text[0] = 'MBH\\t\\t(g)\\t\\t%.15e\\n'%(MBH)\n",
    "text[1] = 'M_UNIT\\t\\t(g)\\t\\t%.15e\\n'%(M_UNIT)\n",
    "text[2] = 'Rhigh\\t\\t(-)\\t\\t%d\\n'%(R_LOW)\n",
    "text[3] = 'Rlow\\t\\t(-)\\t\\t%d\\n'%(R_HIGH)\n",
    "text[5] = 'INCLINATION\\t(deg)\\t%d\\n'%(INCLINATION)\n",
    "text[6] = 'IMG_WIDTH\\t(pixels)\\t%d\\n'%(IMG_WIDTH)\n",
    "text[7] = 'IMG_HEIGHT\\t(pixels)\\t%d\\n'%(IMG_HEIGHT)\n",
    "text[8] = 'CAM_SIZE_X\\t(Rg)\\t\\t%.15e\\n'%(CAM_SIZE_X)\n",
    "text[9] = 'CAM_SIZE_Y\\t(Rg)\\t\\t%.15e\\n'%(CAM_SIZE_Y)\n",
    "text[10] = 'FREQS_PER_DEC\\t(-)\\t\\t%d\\n'%(FREQS_PER_DEC)\n",
    "text[11] = 'FREQ_MIN\\t(Hz)\\t\\t%.15e\\n'%(FREQ_MIN)\n",
    "text[12] = 'STEPSIZE\\t(-)\\t\\t%.15e\\n'%(STEPSIZE)\n",
    "text[13] = 'MAX_LEVEL\\t(-)\\t\\t%d\\n'%(MAX_LEVEL)\n",
    "f = open('model.in','w')\n",
    "f.writelines(text)\n",
    "f.close()"
   ]
  },
  {
   "cell_type": "code",
   "execution_count": 5,
   "id": "b21c7d4a",
   "metadata": {
    "tags": []
   },
   "outputs": [
    {
     "name": "stdout",
     "output_type": "stream",
     "text": [
      "Model parameters:\n",
      "MBH \t\t= 1.233e+43 \n",
      "M_UNIT \t\t= 2.739e+25 \n",
      "R_LOW \t= 1 \n",
      "R_HIGH \t= 1 \n",
      "INCLINATION \t= 57 \n",
      "Observer parameters:\n",
      "IMG_WIDTH \t= 335 \n",
      "IMG_HEIGHT \t= 330 \n",
      "CAM_SIZE_X \t= 19 \n",
      "CAM_SIZE_Y \t= 19 \n",
      "FREQS_PER_DEC \t= 1 \n",
      "FREQ_MIN \t= 1.9e+11 \n",
      "STEPSIZE \t= 0.05 \n",
      "nws 3\n",
      "ng 4\n",
      "ng 6\n",
      "ng 6\n"
     ]
    },
    {
     "name": "stderr",
     "output_type": "stream",
     "text": [
      "\n",
      "UNITS\n",
      "L,T,M: 9.15604e+14 30541.3 2.739e+25\n",
      "rho,u,B: 3.56836e-20 32.0708 20.0752\n",
      "\n",
      "READING BHAC AMR SIMULATION DATA FROM bhac_data/data0202.dat\n",
      "Reading HEADER...\n",
      "nleafs 1992\n",
      "levmax 3\n",
      "ndim 3\n",
      "ndir 3\n",
      "nw 12\n",
      "neqpar+nspecialpar 13 \n",
      "it 278925\n",
      "t 2.030000e+03\n",
      "block size 0 32\n",
      "block size 1 8\n",
      "block size 2 8\n",
      "eqpar 0 1.66667\n",
      "eqpar 1 0.00679932\n",
      "eqpar 2 1\n",
      "eqpar 3 0.9375\n",
      "eqpar 4 0.001\n",
      "eqpar 5 6\n",
      "eqpar 6 12\n",
      "eqpar 7 100\n",
      "eqpar 8 3.33333e-08\n",
      "eqpar 9 1e-05\n",
      "eqpar 10 1\n",
      "eqpar 11 0\n",
      "eqpar 12 0\n",
      "spin 0.9375\n",
      "1 1992 \n",
      "\n",
      "Allocation memory...\n",
      "\n",
      "Reading BODY...\n",
      "\n",
      " DONE \n",
      "7.396830e-06\n",
      "DONE!\n",
      "Number of frequencies to compute: 1\n",
      "freq = +1.900000000000000e+11\n",
      "block 0 of total 1089\n",
      "block 10 of total 1089\n",
      "block 20 of total 1089\n",
      "block 30 of total 1089\n",
      "block 40 of total 1089\n",
      "block 50 of total 1089\n",
      "block 60 of total 1089\n",
      "block 70 of total 1089\n",
      "block 80 of total 1089\n",
      "block 90 of total 1089\n",
      "block 100 of total 1089\n",
      "block 110 of total 1089\n",
      "block 120 of total 1089\n",
      "block 130 of total 1089\n",
      "block 140 of total 1089\n",
      "block 150 of total 1089\n",
      "block 160 of total 1089\n",
      "block 170 of total 1089\n",
      "block 180 of total 1089\n",
      "block 190 of total 1089\n",
      "block 200 of total 1089\n",
      "block 210 of total 1089\n",
      "block 220 of total 1089\n",
      "block 230 of total 1089\n",
      "block 240 of total 1089\n",
      "block 250 of total 1089\n",
      "block 260 of total 1089\n",
      "block 270 of total 1089\n",
      "block 280 of total 1089\n",
      "block 290 of total 1089\n",
      "block 300 of total 1089\n",
      "block 310 of total 1089\n",
      "block 320 of total 1089\n",
      "block 330 of total 1089\n",
      "block 340 of total 1089\n",
      "block 350 of total 1089\n",
      "block 360 of total 1089\n",
      "block 370 of total 1089\n",
      "block 380 of total 1089\n",
      "block 390 of total 1089\n",
      "block 400 of total 1089\n",
      "block 410 of total 1089\n",
      "block 420 of total 1089\n",
      "block 430 of total 1089\n",
      "block 440 of total 1089\n",
      "block 450 of total 1089\n",
      "block 460 of total 1089\n",
      "block 470 of total 1089\n",
      "block 480 of total 1089\n",
      "block 490 of total 1089\n",
      "block 500 of total 1089\n",
      "block 510 of total 1089\n",
      "block 520 of total 1089\n",
      "block 530 of total 1089\n",
      "block 540 of total 1089\n",
      "block 550 of total 1089\n",
      "block 560 of total 1089\n",
      "block 570 of total 1089\n",
      "block 580 of total 1089\n",
      "block 590 of total 1089\n",
      "block 600 of total 1089\n",
      "block 610 of total 1089\n",
      "block 620 of total 1089\n",
      "block 630 of total 1089\n",
      "block 640 of total 1089\n",
      "block 650 of total 1089\n",
      "block 660 of total 1089\n",
      "block 670 of total 1089\n",
      "block 680 of total 1089\n",
      "block 690 of total 1089\n",
      "block 700 of total 1089\n",
      "block 710 of total 1089\n",
      "block 720 of total 1089\n",
      "block 730 of total 1089\n",
      "block 740 of total 1089\n",
      "block 750 of total 1089\n",
      "block 760 of total 1089\n",
      "block 770 of total 1089\n",
      "block 780 of total 1089\n",
      "block 790 of total 1089\n",
      "block 800 of total 1089\n",
      "block 810 of total 1089\n",
      "block 820 of total 1089\n",
      "block 830 of total 1089\n",
      "block 840 of total 1089\n",
      "block 850 of total 1089\n",
      "block 860 of total 1089\n",
      "block 870 of total 1089\n",
      "block 880 of total 1089\n",
      "block 890 of total 1089\n",
      "block 900 of total 1089\n",
      "block 910 of total 1089\n",
      "block 920 of total 1089\n",
      "block 930 of total 1089\n",
      "block 940 of total 1089\n",
      "block 950 of total 1089\n",
      "block 960 of total 1089\n",
      "block 970 of total 1089\n",
      "block 980 of total 1089\n",
      "block 990 of total 1089\n",
      "block 1000 of total 1089\n",
      "block 1010 of total 1089\n",
      "block 1020 of total 1089\n",
      "block 1030 of total 1089\n",
      "block 1040 of total 1089\n",
      "block 1050 of total 1089\n",
      "block 1060 of total 1089\n",
      "block 1070 of total 1089\n",
      "block 1080 of total 1089\n",
      "Frequency 1.90000e+11 Hz Integrated flux density = 3.81572e-04 Jy\n",
      "Frequency 1.90000e+11 Hz Bol Luminosity = 2.33353e+37 ergs/s\n",
      "\n",
      "Finished writing files.\n"
     ]
    }
   ],
   "source": [
    "%%bash\n",
    "./RAPTOR model.in bhac_data/data0202.dat 10"
   ]
  },
  {
   "cell_type": "markdown",
   "id": "df6f8a7b-2436-455a-b514-d0581e7a92b1",
   "metadata": {},
   "source": [
    "### Plot the Data"
   ]
  },
  {
   "cell_type": "code",
   "execution_count": 3,
   "id": "752d39ad-0acb-4e6b-96ce-cb8a5eeb2a1c",
   "metadata": {
    "tags": []
   },
   "outputs": [
    {
     "name": "stdout",
     "output_type": "stream",
     "text": [
      "output\n",
      "10 10\n",
      "output/img_data_10.h5\n",
      "<KeysViewHDF5 ['I1.900000e+11', 'Q1.900000e+11', 'U1.900000e+11', 'V1.900000e+11', 'alpha', 'beta']>\n",
      "1089\n",
      "1088\n"
     ]
    },
    {
     "name": "stderr",
     "output_type": "stream",
     "text": [
      "/usr/local/lib64/python3.6/site-packages/matplotlib/font_manager.py:1333: UserWarning: findfont: Font family ['normal'] not found. Falling back to DejaVu Sans\n",
      "  (prop.get_family(), self.defaultFamily[fontext]))\n"
     ]
    }
   ],
   "source": [
    "font = {'family' : 'normal',\n",
    "        'weight' : 'normal',\n",
    "        'size'   : 15}\n",
    "\n",
    "matplotlib.rc('font', **font)\n",
    "lim=0.001\n",
    "offset=0\n",
    "def plot_data(folder,tstart,tend):\n",
    "    plt.figure(figsize=(15,15),facecolor='w')\n",
    "    fig, ax1 = plt.subplots(nrows=1,ncols=1,figsize=(15,15))\n",
    "\n",
    "#    data_id = 'I3.425455e+15'\n",
    "    data_I_id =  'I1.900000e+11'\n",
    "    for file in range(tstart,tend):\n",
    "        t=(file+offset)%180\n",
    "        print(file,t)\n",
    "        file_name = folder+'/img_data_%d.h5'%t\n",
    "        print(file_name)\n",
    "        images = h5py.File(file_name,'r')\n",
    "        print(images.keys())\n",
    "        max_I=-100\n",
    "        min_I=100\n",
    "        for i in range(0,len(images[data_I_id])):\n",
    "            current_I=np.max(images[data_I_id][i])\n",
    "            if(max_I<current_I):\n",
    "                max_I=current_I\n",
    "            current_I=np.min(images[data_I_id][i])\n",
    "            if(min_I>current_I):\n",
    "                min_I=current_I\n",
    "        print(len(images[data_I_id]))\n",
    "        print(i)\n",
    "        for i in range(0,len(images[data_I_id])):\n",
    "            pixels=int(np.sqrt(len(images[data_I_id][i])))\n",
    "            array_I=((np.reshape(images[data_I_id][i],(pixels,pixels))))\n",
    "            alpha=((np.reshape(images['alpha'][i],(pixels,pixels))))\n",
    "            beta=((np.reshape(images['beta'][i],(pixels,pixels))))\n",
    "\n",
    "            figure_I=ax1.pcolormesh(alpha,beta,(array_I/max_I)**0.5,vmin=0,vmax=1,cmap='afmhot',shading='auto')\n",
    "        fig.colorbar(figure_I,ax=ax1)\n",
    "        ax1.set_xlabel(r\"x [r$_g$]\")\n",
    "        ax1.set_ylabel(r\"y [r$_g$]\")\n",
    "        ax1.set_aspect('equal', 'box')\n",
    "        plt.savefig(\"plot_%d.png\"%file, transparent=False)\n",
    "        #plt.show()\n",
    "        #images.close()\n",
    "        #plt.clf()\n",
    "        #images.close()\n",
    "folder=\"output\"\n",
    "print(folder)\n",
    "plot_data('output',10,11)"
   ]
  },
  {
   "cell_type": "code",
   "execution_count": null,
   "id": "3f3251c9-de60-4ce8-a02a-79e421e65c63",
   "metadata": {},
   "outputs": [],
   "source": []
  }
 ],
 "metadata": {
  "celltoolbar": "Edit Metadata",
  "kernelspec": {
   "display_name": "Python 3",
   "language": "python",
   "name": "python3"
  },
  "language_info": {
   "codemirror_mode": {
    "name": "ipython",
    "version": 3
   },
   "file_extension": ".py",
   "mimetype": "text/x-python",
   "name": "python",
   "nbconvert_exporter": "python",
   "pygments_lexer": "ipython3",
   "version": "3.6.8"
  }
 },
 "nbformat": 4,
 "nbformat_minor": 5
}
