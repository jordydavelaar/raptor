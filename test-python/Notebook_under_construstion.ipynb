{
 "cells": [
  {
   "cell_type": "code",
   "execution_count": 8,
   "id": "a6e1da5b-bdc7-4cf8-b9bd-3613a39704b0",
   "metadata": {
    "tags": []
   },
   "outputs": [],
   "source": [
    "import math\n",
    "import numpy as np\n",
    "import matplotlib.pyplot as plt\n",
    "import emoji\n",
    "from ipywidgets import Layout, interact, IntSlider,Label, HBox\n",
    "import ipywidgets as widgets\n",
    "import os\n",
    "import sys\n",
    "import h5py\n",
    "from pathlib import Path\n",
    "%matplotlib inline"
   ]
  },
  {
   "cell_type": "code",
   "execution_count": 9,
   "id": "d4cdc91d-810f-48ce-98fd-30c6f696b888",
   "metadata": {
    "hide_input": true,
    "tags": []
   },
   "outputs": [
    {
     "data": {
      "application/vnd.jupyter.widget-view+json": {
       "model_id": "ef2357aecbd44abca7929817e556da8d",
       "version_major": 2,
       "version_minor": 0
      },
      "text/plain": [
       "HBox(children=(Label(value='Inclination (Deg):'), IntSlider(value=0, max=180)))"
      ]
     },
     "metadata": {},
     "output_type": "display_data"
    },
    {
     "data": {
      "application/vnd.jupyter.widget-view+json": {
       "model_id": "d450b6b7cd164f6c9f377da64c4116e3",
       "version_major": 2,
       "version_minor": 0
      },
      "text/plain": [
       "HBox(children=(Label(value='Image Width (Pixels):'), IntSlider(value=50, max=500, min=50)))"
      ]
     },
     "metadata": {},
     "output_type": "display_data"
    },
    {
     "data": {
      "application/vnd.jupyter.widget-view+json": {
       "model_id": "a1581ccd3622497b882ad179a798be88",
       "version_major": 2,
       "version_minor": 0
      },
      "text/plain": [
       "HBox(children=(Label(value='Image Height (Pixels):'), IntSlider(value=50, max=500, min=50)))"
      ]
     },
     "metadata": {},
     "output_type": "display_data"
    },
    {
     "data": {
      "application/vnd.jupyter.widget-view+json": {
       "model_id": "98e3ddbaae0e42858f26fa3bc51d8d64",
       "version_major": 2,
       "version_minor": 0
      },
      "text/plain": [
       "HBox(children=(Label(value='Camera Size (X):'), IntSlider(value=15, max=20, min=15)))"
      ]
     },
     "metadata": {},
     "output_type": "display_data"
    },
    {
     "data": {
      "application/vnd.jupyter.widget-view+json": {
       "model_id": "c87bf89c7b8546f488f855ea18c3250a",
       "version_major": 2,
       "version_minor": 0
      },
      "text/plain": [
       "HBox(children=(Label(value='Camera Size (Y):'), IntSlider(value=15, max=20, min=15)))"
      ]
     },
     "metadata": {},
     "output_type": "display_data"
    },
    {
     "data": {
      "application/vnd.jupyter.widget-view+json": {
       "model_id": "9c5febaccee74403a22f6a4061b51f3c",
       "version_major": 2,
       "version_minor": 0
      },
      "text/plain": [
       "HBox(children=(Label(value='Frequency (x $10^{10}$) Hz:'), IntSlider(value=10, max=30, min=10)))"
      ]
     },
     "metadata": {},
     "output_type": "display_data"
    }
   ],
   "source": [
    "inclination = IntSlider(min=0,max=180,step=1) \n",
    "inclination_box = HBox([Label('Inclination (Deg):'), inclination])\n",
    "\n",
    "image_width = IntSlider(min=50,max=500,step=1)\n",
    "image_width_box = HBox([Label('Image Width (Pixels):'), image_width])\n",
    "\n",
    "image_height = IntSlider(min=50,max=500,step=1)\n",
    "image_height_box = HBox([Label('Image Height (Pixels):'), image_height])\n",
    "\n",
    "cam_x = IntSlider(min=15,max=20,step=1)\n",
    "cam_x_box = HBox([Label('Camera Size (X):'), cam_x])\n",
    "\n",
    "cam_y = IntSlider(min=15,max=20,step=1)\n",
    "cam_y_box = HBox([Label('Camera Size (Y):'), cam_y])\n",
    "\n",
    "Frequency = IntSlider(min=10,max=30,step=1)\n",
    "Frequency_box = HBox([Label('Frequency (x $10^{10}$) Hz:'), Frequency])\n",
    "\n",
    "display(inclination_box)\n",
    "display(image_width_box)\n",
    "display(image_height_box)\n",
    "display(cam_x_box)\n",
    "display(cam_y_box)\n",
    "display(Frequency_box)"
   ]
  },
  {
   "cell_type": "code",
   "execution_count": 13,
   "id": "e14418fb-5227-4a9a-a650-db7de973ac8e",
   "metadata": {
    "tags": []
   },
   "outputs": [],
   "source": [
    "MBH=6.2e9\n",
    "DISTANCE = 3945 #kpc\n",
    "M_UNIT=2.739e25\n",
    "R_LOW=1\n",
    "R_HIGH=1\n",
    "\n",
    "INCLINATION = inclination.value\n",
    "IMG_WIDTH = image_width.value\n",
    "IMG_HEIGHT = image_height.value\n",
    "CAM_SIZE_X = cam_x.value\n",
    "CAM_SIZE_Y = cam_y.value\n",
    "FREQS_PER_DEC=1\n",
    "FREQ_MIN = Frequency.value*1.e10\n",
    "STEPSIZE = 0.05\n",
    "MAX_LEVEL = 1\n",
    "#Writing the model.in file \n",
    "f = open('model.in','r')\n",
    "text = f.readlines()\n",
    "f.close()\n",
    "text[0] = 'MBH\\t\\t(Msun)\\t\\t%.15e\\n'%(MBH)\n",
    "text[1] = 'MBH\\t\\t(kpc)\\t\\t%.15e\\n'%(DISTANCE)\n",
    "text[2] = 'M_UNIT\\t\\t(g)\\t\\t%.15e\\n'%(M_UNIT)\n",
    "text[3] = 'Rhigh\\t\\t(-)\\t\\t%d\\n'%(R_LOW)\n",
    "text[4] = 'Rlow\\t\\t(-)\\t\\t%d\\n'%(R_HIGH)\n",
    "\n",
    "text[5] = 'INCLINATION\\t(deg)\\t%d\\n'%(INCLINATION)\n",
    "text[6] = 'IMG_WIDTH\\t(pixels)\\t%d\\n'%(IMG_WIDTH)\n",
    "text[7] = 'IMG_HEIGHT\\t(pixels)\\t%d\\n'%(IMG_HEIGHT)\n",
    "text[8] = 'CAM_SIZE_X\\t(Rg)\\t\\t%.15e\\n'%(CAM_SIZE_X)\n",
    "text[9] = 'CAM_SIZE_Y\\t(Rg)\\t\\t%.15e\\n'%(CAM_SIZE_Y)\n",
    "text[10] = 'FREQS_PER_DEC\\t(-)\\t\\t%d\\n'%(FREQS_PER_DEC)\n",
    "text[11] = 'FREQ_MIN\\t(Hz)\\t\\t%.15e\\n'%(FREQ_MIN)\n",
    "text[12] = 'STEPSIZE\\t(-)\\t\\t%.15e\\n'%(STEPSIZE)\n",
    "text[13] = 'MAX_LEVEL\\t(-)\\t\\t%d\\n'%(MAX_LEVEL)\n",
    "f = open('model.in','w')\n",
    "f.writelines(text)\n",
    "f.close()"
   ]
  },
  {
   "cell_type": "code",
   "execution_count": 12,
   "id": "b21c7d4a",
   "metadata": {
    "tags": []
   },
   "outputs": [
    {
     "name": "stdout",
     "output_type": "stream",
     "text": [
      "\n",
      "Using model parameter file model.in\n"
     ]
    },
    {
     "name": "stderr",
     "output_type": "stream",
     "text": [
      "__________    _____ _____________________________ __________\n",
      "\\______   \\  /  _  \\\\______   \\__    ___/\\_____  \\\\______   \\\n",
      " |       _/ /  /_\\  \\|     ___/ |    |    /   |   \\|       _/\n",
      " |    |   \\/    |    \\    |     |    |   /    |    \\    |   \\\n",
      " |____|_  /\\____|__  /____|     |____|   \\_______  /____|_  /\n",
      "        \\/         \\/                            \\/       \\/  \n",
      "\n",
      "Running RAPTOR v1.0 in unpolarized mode!\n",
      "\n",
      "Initializing...\n",
      "\n",
      "Model parameters:\n",
      "\n",
      "MBH \t\t= 6.2e+09 Msun\n",
      "DISTANCE \t= 3945 kpc\n",
      "M_UNIT \t\t= 2.739e+25 grams\n",
      "R_LOW \t\t= 1 \n",
      "R_HIGH \t\t= 1 \n",
      "INCLINATION \t= 149 deg\n",
      "METRIC \t\t= MKS BHAC\n",
      "\n",
      "Observer parameters:\n",
      "\n",
      "IMG_WIDTH \t= 382 \n",
      "IMG_HEIGHT \t= 371 \n",
      "CAM_SIZE_X \t= 20 GM/c2\n",
      "CAM_SIZE_Y \t= 20 GM/c2\n",
      "FREQS_PER_DEC \t= 1 \n",
      "FREQ_MIN \t= 2.6e+11 Hz\n",
      "STEPSIZE \t= 0.05 \n",
      "\n",
      "Starting read in of BHAC GRMHD data...\n",
      "\n",
      "Successfully opened bhac_data/data0202.dat. \n",
      "\n",
      "Reading...Done\n",
      "\n",
      "Number of frequencies to compute: 1\n",
      "should be squared. EXITING\n"
     ]
    },
    {
     "ename": "CalledProcessError",
     "evalue": "Command 'b'./RAPTOR model.in bhac_data/data0202.dat 10\\n'' returned non-zero exit status 1.",
     "output_type": "error",
     "traceback": [
      "\u001b[0;31m---------------------------------------------------------------------------\u001b[0m",
      "\u001b[0;31mCalledProcessError\u001b[0m                        Traceback (most recent call last)",
      "\u001b[0;32m<ipython-input-12-bf327584b701>\u001b[0m in \u001b[0;36m<module>\u001b[0;34m\u001b[0m\n\u001b[0;32m----> 1\u001b[0;31m \u001b[0mget_ipython\u001b[0m\u001b[0;34m(\u001b[0m\u001b[0;34m)\u001b[0m\u001b[0;34m.\u001b[0m\u001b[0mrun_cell_magic\u001b[0m\u001b[0;34m(\u001b[0m\u001b[0;34m'bash'\u001b[0m\u001b[0;34m,\u001b[0m \u001b[0;34m''\u001b[0m\u001b[0;34m,\u001b[0m \u001b[0;34m'./RAPTOR model.in bhac_data/data0202.dat 10\\n'\u001b[0m\u001b[0;34m)\u001b[0m\u001b[0;34m\u001b[0m\u001b[0;34m\u001b[0m\u001b[0m\n\u001b[0m",
      "\u001b[0;32m/usr/local/lib/python3.6/site-packages/IPython/core/interactiveshell.py\u001b[0m in \u001b[0;36mrun_cell_magic\u001b[0;34m(self, magic_name, line, cell)\u001b[0m\n\u001b[1;32m   2369\u001b[0m             \u001b[0;32mwith\u001b[0m \u001b[0mself\u001b[0m\u001b[0;34m.\u001b[0m\u001b[0mbuiltin_trap\u001b[0m\u001b[0;34m:\u001b[0m\u001b[0;34m\u001b[0m\u001b[0;34m\u001b[0m\u001b[0m\n\u001b[1;32m   2370\u001b[0m                 \u001b[0margs\u001b[0m \u001b[0;34m=\u001b[0m \u001b[0;34m(\u001b[0m\u001b[0mmagic_arg_s\u001b[0m\u001b[0;34m,\u001b[0m \u001b[0mcell\u001b[0m\u001b[0;34m)\u001b[0m\u001b[0;34m\u001b[0m\u001b[0;34m\u001b[0m\u001b[0m\n\u001b[0;32m-> 2371\u001b[0;31m                 \u001b[0mresult\u001b[0m \u001b[0;34m=\u001b[0m \u001b[0mfn\u001b[0m\u001b[0;34m(\u001b[0m\u001b[0;34m*\u001b[0m\u001b[0margs\u001b[0m\u001b[0;34m,\u001b[0m \u001b[0;34m**\u001b[0m\u001b[0mkwargs\u001b[0m\u001b[0;34m)\u001b[0m\u001b[0;34m\u001b[0m\u001b[0;34m\u001b[0m\u001b[0m\n\u001b[0m\u001b[1;32m   2372\u001b[0m             \u001b[0;32mreturn\u001b[0m \u001b[0mresult\u001b[0m\u001b[0;34m\u001b[0m\u001b[0;34m\u001b[0m\u001b[0m\n\u001b[1;32m   2373\u001b[0m \u001b[0;34m\u001b[0m\u001b[0m\n",
      "\u001b[0;32m/usr/local/lib/python3.6/site-packages/IPython/core/magics/script.py\u001b[0m in \u001b[0;36mnamed_script_magic\u001b[0;34m(line, cell)\u001b[0m\n\u001b[1;32m    140\u001b[0m             \u001b[0;32melse\u001b[0m\u001b[0;34m:\u001b[0m\u001b[0;34m\u001b[0m\u001b[0;34m\u001b[0m\u001b[0m\n\u001b[1;32m    141\u001b[0m                 \u001b[0mline\u001b[0m \u001b[0;34m=\u001b[0m \u001b[0mscript\u001b[0m\u001b[0;34m\u001b[0m\u001b[0;34m\u001b[0m\u001b[0m\n\u001b[0;32m--> 142\u001b[0;31m             \u001b[0;32mreturn\u001b[0m \u001b[0mself\u001b[0m\u001b[0;34m.\u001b[0m\u001b[0mshebang\u001b[0m\u001b[0;34m(\u001b[0m\u001b[0mline\u001b[0m\u001b[0;34m,\u001b[0m \u001b[0mcell\u001b[0m\u001b[0;34m)\u001b[0m\u001b[0;34m\u001b[0m\u001b[0;34m\u001b[0m\u001b[0m\n\u001b[0m\u001b[1;32m    143\u001b[0m \u001b[0;34m\u001b[0m\u001b[0m\n\u001b[1;32m    144\u001b[0m         \u001b[0;31m# write a basic docstring:\u001b[0m\u001b[0;34m\u001b[0m\u001b[0;34m\u001b[0m\u001b[0;34m\u001b[0m\u001b[0m\n",
      "\u001b[0;32m<decorator-gen-110>\u001b[0m in \u001b[0;36mshebang\u001b[0;34m(self, line, cell)\u001b[0m\n",
      "\u001b[0;32m/usr/local/lib/python3.6/site-packages/IPython/core/magic.py\u001b[0m in \u001b[0;36m<lambda>\u001b[0;34m(f, *a, **k)\u001b[0m\n\u001b[1;32m    185\u001b[0m     \u001b[0;31m# but it's overkill for just that one bit of state.\u001b[0m\u001b[0;34m\u001b[0m\u001b[0;34m\u001b[0m\u001b[0;34m\u001b[0m\u001b[0m\n\u001b[1;32m    186\u001b[0m     \u001b[0;32mdef\u001b[0m \u001b[0mmagic_deco\u001b[0m\u001b[0;34m(\u001b[0m\u001b[0marg\u001b[0m\u001b[0;34m)\u001b[0m\u001b[0;34m:\u001b[0m\u001b[0;34m\u001b[0m\u001b[0;34m\u001b[0m\u001b[0m\n\u001b[0;32m--> 187\u001b[0;31m         \u001b[0mcall\u001b[0m \u001b[0;34m=\u001b[0m \u001b[0;32mlambda\u001b[0m \u001b[0mf\u001b[0m\u001b[0;34m,\u001b[0m \u001b[0;34m*\u001b[0m\u001b[0ma\u001b[0m\u001b[0;34m,\u001b[0m \u001b[0;34m**\u001b[0m\u001b[0mk\u001b[0m\u001b[0;34m:\u001b[0m \u001b[0mf\u001b[0m\u001b[0;34m(\u001b[0m\u001b[0;34m*\u001b[0m\u001b[0ma\u001b[0m\u001b[0;34m,\u001b[0m \u001b[0;34m**\u001b[0m\u001b[0mk\u001b[0m\u001b[0;34m)\u001b[0m\u001b[0;34m\u001b[0m\u001b[0;34m\u001b[0m\u001b[0m\n\u001b[0m\u001b[1;32m    188\u001b[0m \u001b[0;34m\u001b[0m\u001b[0m\n\u001b[1;32m    189\u001b[0m         \u001b[0;32mif\u001b[0m \u001b[0mcallable\u001b[0m\u001b[0;34m(\u001b[0m\u001b[0marg\u001b[0m\u001b[0;34m)\u001b[0m\u001b[0;34m:\u001b[0m\u001b[0;34m\u001b[0m\u001b[0;34m\u001b[0m\u001b[0m\n",
      "\u001b[0;32m/usr/local/lib/python3.6/site-packages/IPython/core/magics/script.py\u001b[0m in \u001b[0;36mshebang\u001b[0;34m(self, line, cell)\u001b[0m\n\u001b[1;32m    243\u001b[0m             \u001b[0msys\u001b[0m\u001b[0;34m.\u001b[0m\u001b[0mstderr\u001b[0m\u001b[0;34m.\u001b[0m\u001b[0mflush\u001b[0m\u001b[0;34m(\u001b[0m\u001b[0;34m)\u001b[0m\u001b[0;34m\u001b[0m\u001b[0;34m\u001b[0m\u001b[0m\n\u001b[1;32m    244\u001b[0m         \u001b[0;32mif\u001b[0m \u001b[0margs\u001b[0m\u001b[0;34m.\u001b[0m\u001b[0mraise_error\u001b[0m \u001b[0;32mand\u001b[0m \u001b[0mp\u001b[0m\u001b[0;34m.\u001b[0m\u001b[0mreturncode\u001b[0m\u001b[0;34m!=\u001b[0m\u001b[0;36m0\u001b[0m\u001b[0;34m:\u001b[0m\u001b[0;34m\u001b[0m\u001b[0;34m\u001b[0m\u001b[0m\n\u001b[0;32m--> 245\u001b[0;31m             \u001b[0;32mraise\u001b[0m \u001b[0mCalledProcessError\u001b[0m\u001b[0;34m(\u001b[0m\u001b[0mp\u001b[0m\u001b[0;34m.\u001b[0m\u001b[0mreturncode\u001b[0m\u001b[0;34m,\u001b[0m \u001b[0mcell\u001b[0m\u001b[0;34m,\u001b[0m \u001b[0moutput\u001b[0m\u001b[0;34m=\u001b[0m\u001b[0mout\u001b[0m\u001b[0;34m,\u001b[0m \u001b[0mstderr\u001b[0m\u001b[0;34m=\u001b[0m\u001b[0merr\u001b[0m\u001b[0;34m)\u001b[0m\u001b[0;34m\u001b[0m\u001b[0;34m\u001b[0m\u001b[0m\n\u001b[0m\u001b[1;32m    246\u001b[0m \u001b[0;34m\u001b[0m\u001b[0m\n\u001b[1;32m    247\u001b[0m     \u001b[0;32mdef\u001b[0m \u001b[0m_run_script\u001b[0m\u001b[0;34m(\u001b[0m\u001b[0mself\u001b[0m\u001b[0;34m,\u001b[0m \u001b[0mp\u001b[0m\u001b[0;34m,\u001b[0m \u001b[0mcell\u001b[0m\u001b[0;34m,\u001b[0m \u001b[0mto_close\u001b[0m\u001b[0;34m)\u001b[0m\u001b[0;34m:\u001b[0m\u001b[0;34m\u001b[0m\u001b[0;34m\u001b[0m\u001b[0m\n",
      "\u001b[0;31mCalledProcessError\u001b[0m: Command 'b'./RAPTOR model.in bhac_data/data0202.dat 10\\n'' returned non-zero exit status 1."
     ]
    }
   ],
   "source": [
    "%%bash\n",
    "./RAPTOR model.in bhac_data/data0202.dat 10"
   ]
  },
  {
   "cell_type": "code",
   "execution_count": 14,
   "id": "752d39ad-0acb-4e6b-96ce-cb8a5eeb2a1c",
   "metadata": {
    "tags": []
   },
   "outputs": [
    {
     "name": "stdout",
     "output_type": "stream",
     "text": [
      "Reading keys from:  output/img_data_10.h5\n",
      "['I2.800000e+11', 'alpha', 'beta']\n",
      "Reading in:  output/img_data_10.h5\n",
      "3\n"
     ]
    },
    {
     "data": {
      "text/plain": [
       "<Figure size 1500x1250 with 0 Axes>"
      ]
     },
     "metadata": {},
     "output_type": "display_data"
    },
    {
     "data": {
      "image/png": "[encoded data removed]",
      "text/plain": [
       "<Figure size 432x360 with 2 Axes>"
      ]
     },
     "metadata": {
      "needs_background": "light"
     },
     "output_type": "display_data"
    }
   ],
   "source": [
    "import rapplot\n",
    "\n",
    "M=6.5e9 * rapplot.MSUN\n",
    "d=16800 * rapplot.KPC\n",
    "\n",
    "rg = (rapplot.G*M/rapplot.SPEED_OF_LIGHT**2.)\n",
    "\n",
    "mas = (rg/d)* rapplot.MAS_IN_DEG\n",
    "\n",
    "Tunit =rg/rapplot.SPEED_OF_LIGHT\n",
    "\n",
    "halfrange=200 #in rg\n",
    "\n",
    "ind = rapplot.read_data_id('output',10)\n",
    "min,max,image = rapplot.read_data('output',10,ind)\n",
    "plt.figure(figsize=(6,5),dpi=250,facecolor='w')\n",
    "fig, ax = plt.subplots(1,1,figsize=(6,5))\n",
    "p = rapplot.plot_data_stokes(image,min,max,0,ind,fig,ax)\n",
    "\n",
    "ax.set_xlabel(r\"x [mas]\")\n",
    "ax.set_ylabel(r\"y [mas]\")\n",
    "\n",
    "plt.tight_layout()\n",
    "Path(\"figures/\").mkdir(parents=True, exist_ok=True)\n",
    "plt.show()"
   ]
  },
  {
   "cell_type": "code",
   "execution_count": null,
   "id": "3f3251c9-de60-4ce8-a02a-79e421e65c63",
   "metadata": {},
   "outputs": [],
   "source": []
  },
  {
   "cell_type": "code",
   "execution_count": null,
   "id": "428483d8-94c8-453b-bbae-60496d685035",
   "metadata": {},
   "outputs": [],
   "source": []
  }
 ],
 "metadata": {
  "celltoolbar": "Edit Metadata",
  "kernelspec": {
   "display_name": "Python 3.6.8 64-bit",
   "language": "python",
   "name": "python3"
  },
  "language_info": {
   "codemirror_mode": {
    "name": "ipython",
    "version": 3
   },
   "file_extension": ".py",
   "mimetype": "text/x-python",
   "name": "python",
   "nbconvert_exporter": "python",
   "pygments_lexer": "ipython3",
   "version": "3.6.8"
  },
  "vscode": {
   "interpreter": {
    "hash": "916dbcbb3f70747c44a77c7bcd40155683ae19c65e1c03b4aa3499c5328201f1"
   }
  }
 },
 "nbformat": 4,
 "nbformat_minor": 5
}
