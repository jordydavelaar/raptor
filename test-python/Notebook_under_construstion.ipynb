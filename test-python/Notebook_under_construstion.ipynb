{
 "cells": [
  {
   "cell_type": "code",
   "execution_count": 24,
   "id": "18c5b782",
   "metadata": {
    "tags": []
   },
   "outputs": [],
   "source": [
    "import math\n",
    "import numpy as np\n",
    "import matplotlib\n",
    "matplotlib.use('Agg')\n",
    "import matplotlib.pyplot as plt\n",
    "import emoji\n",
    "from ipywidgets import Layout, interact, IntSlider,Label, HBox\n",
    "import ipywidgets as widgets\n",
    "import os\n",
    "import sys"
   ]
  },
  {
   "cell_type": "markdown",
   "id": "8836ab67",
   "metadata": {},
   "source": [
    "#### Put in the inputs"
   ]
  },
  {
   "cell_type": "code",
   "execution_count": 25,
   "id": "d4cdc91d-810f-48ce-98fd-30c6f696b888",
   "metadata": {
    "hide_input": true,
    "jupyter": {
     "source_hidden": true
    },
    "tags": []
   },
   "outputs": [
    {
     "data": {
      "application/vnd.jupyter.widget-view+json": {
       "model_id": "8b236ca76a45496e9dc554f7916e6e76",
       "version_major": 2,
       "version_minor": 0
      },
      "text/plain": [
       "HBox(children=(Label(value='Inclination (Deg):'), IntSlider(value=0, max=180)))"
      ]
     },
     "metadata": {},
     "output_type": "display_data"
    },
    {
     "data": {
      "application/vnd.jupyter.widget-view+json": {
       "model_id": "09af9257221745519c1eb93f96faab24",
       "version_major": 2,
       "version_minor": 0
      },
      "text/plain": [
       "HBox(children=(Label(value='Image Width (Pixels):'), IntSlider(value=50, max=500, min=50)))"
      ]
     },
     "metadata": {},
     "output_type": "display_data"
    },
    {
     "data": {
      "application/vnd.jupyter.widget-view+json": {
       "model_id": "1b57e99fb7764c758bf23d89c816184f",
       "version_major": 2,
       "version_minor": 0
      },
      "text/plain": [
       "HBox(children=(Label(value='Image Height (Pixels):'), IntSlider(value=50, max=500, min=50)))"
      ]
     },
     "metadata": {},
     "output_type": "display_data"
    },
    {
     "data": {
      "application/vnd.jupyter.widget-view+json": {
       "model_id": "ff8a842c45d54fcda21a8240eabb5c14",
       "version_major": 2,
       "version_minor": 0
      },
      "text/plain": [
       "HBox(children=(Label(value='Camera Size (X):'), IntSlider(value=15, max=20, min=15)))"
      ]
     },
     "metadata": {},
     "output_type": "display_data"
    },
    {
     "data": {
      "application/vnd.jupyter.widget-view+json": {
       "model_id": "6d11d503a216430eabe4f90905f74d98",
       "version_major": 2,
       "version_minor": 0
      },
      "text/plain": [
       "HBox(children=(Label(value='Camera Size (Y):'), IntSlider(value=15, max=20, min=15)))"
      ]
     },
     "metadata": {},
     "output_type": "display_data"
    },
    {
     "data": {
      "application/vnd.jupyter.widget-view+json": {
       "model_id": "63b75c9abd8e4afc87ef91a8a9eeb7d9",
       "version_major": 2,
       "version_minor": 0
      },
      "text/plain": [
       "HBox(children=(Label(value='Frequency (x $10^{10}$) Hz:'), IntSlider(value=10, max=30, min=10)))"
      ]
     },
     "metadata": {},
     "output_type": "display_data"
    }
   ],
   "source": [
    "inclination = IntSlider(min=0,max=180,step=1) \n",
    "inclination_box = HBox([Label('Inclination (Deg):'), inclination])\n",
    "\n",
    "image_width = IntSlider(min=50,max=500,step=1)\n",
    "image_width_box = HBox([Label('Image Width (Pixels):'), IntSlider(min=50,max=500,step=1)])\n",
    "\n",
    "image_height = IntSlider(min=50,max=500,step=1)\n",
    "image_height_box = HBox([Label('Image Height (Pixels):'), IntSlider(min=50,max=500,step=1)])\n",
    "\n",
    "cam_x = IntSlider(min=15,max=20,step=1)\n",
    "cam_x_box = HBox([Label('Camera Size (X):'), IntSlider(min=15,max=20,step=1)])\n",
    "\n",
    "cam_y = IntSlider(min=15,max=20,step=1)\n",
    "cam_y_box = HBox([Label('Camera Size (Y):'), IntSlider(min=15,max=20,step=1)])\n",
    "\n",
    "Frequency = IntSlider(min=10,max=30,step=1)\n",
    "Frequency_box = HBox([Label('Frequency (x $10^{10}$) Hz:'), IntSlider(min=10,max=30,step=1)])\n",
    "\n",
    "display(inclination_box)\n",
    "display(image_width_box)\n",
    "display(image_height_box)\n",
    "display(cam_x_box)\n",
    "display(cam_y_box)\n",
    "display(Frequency_box)"
   ]
  },
  {
   "cell_type": "code",
   "execution_count": 27,
   "id": "e14418fb-5227-4a9a-a650-db7de973ac8e",
   "metadata": {
    "jupyter": {
     "source_hidden": true
    },
    "tags": []
   },
   "outputs": [],
   "source": [
    "MBH=1.233e43\n",
    "M_UNIT=2.739e25\n",
    "R_LOW=1\n",
    "R_HIGH=1\n",
    "\n",
    "INCLINATION = inclination.value\n",
    "IMG_WIDTH = image_width.value\n",
    "IMG_HEIGHT = image_height.value\n",
    "CAM_SIZE_X = cam_x.value\n",
    "CAM_SIZE_Y = cam_y.value\n",
    "FREQS_PER_DEC=1\n",
    "FREQ_MIN = Frequency.value*1.e10\n",
    "STEPSIZE = 0.05\n",
    "MAX_LEVEL = 1\n",
    "#Writing the model.in file \n",
    "f = open('model.in','r')\n",
    "text = f.readlines()\n",
    "f.close()\n",
    "text[0] = 'MBH\\t\\t(g)\\t\\t%.15e\\n'%(MBH)\n",
    "text[1] = 'M_UNIT\\t\\t(g)\\t\\t%.15e\\n'%(M_UNIT)\n",
    "text[2] = 'Rhigh\\t\\t(-)\\t\\t%d\\n'%(R_LOW)\n",
    "text[3] = 'Rlow\\t\\t(-)\\t\\t%d\\n'%(R_HIGH)\n",
    "text[5] = 'INCLINATION\\t(deg)\\t%d\\n'%(INCLINATION)\n",
    "text[6] = 'IMG_WIDTH\\t(pixels)\\t%d\\n'%(IMG_WIDTH)\n",
    "text[7] = 'IMG_HEIGHT\\t(pixels)\\t%d\\n'%(IMG_HEIGHT)\n",
    "text[8] = 'CAM_SIZE_X\\t(Rg)\\t\\t%.15e\\n'%(CAM_SIZE_X)\n",
    "text[9] = 'CAM_SIZE_Y\\t(Rg)\\t\\t%.15e\\n'%(CAM_SIZE_Y)\n",
    "text[10] = 'FREQS_PER_DEC\\t(-)\\t\\t%d\\n'%(FREQS_PER_DEC)\n",
    "text[11] = 'FREQ_MIN\\t(Hz)\\t\\t%.15e\\n'%(FREQ_MIN)\n",
    "text[12] = 'STEPSIZE\\t(-)\\t\\t%.15e\\n'%(STEPSIZE)\n",
    "text[13] = 'MAX_LEVEL\\t(-)\\t\\t%d\\n'%(MAX_LEVEL)\n",
    "f = open('model.in','w')\n",
    "f.writelines(text)\n",
    "f.close()"
   ]
  },
  {
   "cell_type": "code",
   "execution_count": 28,
   "id": "b21c7d4a",
   "metadata": {
    "jupyter": {
     "source_hidden": true
    },
    "tags": []
   },
   "outputs": [
    {
     "name": "stdout",
     "output_type": "stream",
     "text": [
      "Model parameters:\n",
      "MBH \t\t= 1.233e+43 \n",
      "M_UNIT \t\t= 2.739e+25 \n",
      "R_LOW \t= 1 \n",
      "R_HIGH \t= 1 \n",
      "INCLINATION \t= 0 \n",
      "Observer parameters:\n",
      "IMG_WIDTH \t= 50 \n",
      "IMG_HEIGHT \t= 50 \n",
      "CAM_SIZE_X \t= 15 \n",
      "CAM_SIZE_Y \t= 15 \n",
      "FREQS_PER_DEC \t= 1 \n",
      "FREQ_MIN \t= 1e+11 \n",
      "STEPSIZE \t= 0.05 \n",
      "nws 3\n",
      "ng 4\n",
      "ng 6\n",
      "ng 6\n"
     ]
    },
    {
     "name": "stderr",
     "output_type": "stream",
     "text": [
      "\n",
      "UNITS\n",
      "L,T,M: 9.15604e+14 30541.3 2.739e+25\n",
      "rho,u,B: 3.56836e-20 32.0708 20.0752\n",
      "\n",
      "READING BHAC AMR SIMULATION DATA FROM bhac_data/data0202.dat\n",
      "Reading HEADER...\n",
      "nleafs 1992\n",
      "levmax 3\n",
      "ndim 3\n",
      "ndir 3\n",
      "nw 12\n",
      "neqpar+nspecialpar 13 \n",
      "it 278925\n",
      "t 2.030000e+03\n",
      "block size 0 32\n",
      "block size 1 8\n",
      "block size 2 8\n",
      "eqpar 0 1.66667\n",
      "eqpar 1 0.00679932\n",
      "eqpar 2 1\n",
      "eqpar 3 0.9375\n",
      "eqpar 4 0.001\n",
      "eqpar 5 6\n",
      "eqpar 6 12\n",
      "eqpar 7 100\n",
      "eqpar 8 3.33333e-08\n",
      "eqpar 9 1e-05\n",
      "eqpar 10 1\n",
      "eqpar 11 0\n",
      "eqpar 12 0\n",
      "spin 0.9375\n",
      "1 1992 \n",
      "\n",
      "Allocation memory...\n",
      "\n",
      "Reading BODY...\n",
      "\n",
      " DONE \n",
      "7.396830e-06\n",
      "DONE!\n",
      "Number of frequencies to compute: 1\n",
      "freq = +1.000000000000000e+11\n",
      "block 0 of total 25\n",
      "block 10 of total 25\n",
      "block 20 of total 25\n",
      "Frequency 1.00000e+11 Hz Integrated flux density = 0.00000e+00 Jy\n",
      "Frequency 1.00000e+11 Hz Bol Luminosity = 0.00000e+00 ergs/s\n",
      "\n",
      "Finished writing files.\n"
     ]
    }
   ],
   "source": [
    "%%bash\n",
    "./RAPTOR model.in bhac_data/data0202.dat 10"
   ]
  },
  {
   "cell_type": "code",
   "execution_count": null,
   "id": "75a52a2e-07a8-47be-a646-d94e51232236",
   "metadata": {},
   "outputs": [],
   "source": []
  }
 ],
 "metadata": {
  "celltoolbar": "Edit Metadata",
  "kernelspec": {
   "display_name": "Python 3",
   "language": "python",
   "name": "python3"
  },
  "language_info": {
   "codemirror_mode": {
    "name": "ipython",
    "version": 3
   },
   "file_extension": ".py",
   "mimetype": "text/x-python",
   "name": "python",
   "nbconvert_exporter": "python",
   "pygments_lexer": "ipython3",
   "version": "3.6.8"
  }
 },
 "nbformat": 4,
 "nbformat_minor": 5
}
