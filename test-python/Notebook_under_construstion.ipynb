{
 "cells": [
  {
   "cell_type": "code",
   "execution_count": null,
   "id": "a6e1da5b-bdc7-4cf8-b9bd-3613a39704b0",
   "metadata": {
    "tags": []
   },
   "outputs": [],
   "source": [
    "import math\n",
    "import numpy as np\n",
    "import matplotlib\n",
    "matplotlib.use('Agg')\n",
    "import matplotlib.pyplot as plt\n",
    "import emoji\n",
    "from ipywidgets import Layout, interact, IntSlider,Label, HBox\n",
    "import ipywidgets as widgets\n",
    "import os\n",
    "import sys\n",
    "import h5py\n",
    "from pathlib import Path"
   ]
  },
  {
   "cell_type": "code",
   "execution_count": 2,
   "id": "d4cdc91d-810f-48ce-98fd-30c6f696b888",
   "metadata": {
    "hide_input": true,
    "tags": []
   },
   "outputs": [
    {
     "data": {
      "application/vnd.jupyter.widget-view+json": {
       "model_id": "9d0b904f006848958e32f208fc193fe1",
       "version_major": 2,
       "version_minor": 0
      },
      "text/plain": [
       "HBox(children=(Label(value='Inclination (Deg):'), IntSlider(value=0, max=180)))"
      ]
     },
     "metadata": {},
     "output_type": "display_data"
    },
    {
     "data": {
      "application/vnd.jupyter.widget-view+json": {
       "model_id": "d0f791dd21324b11aa263558532d2cf1",
       "version_major": 2,
       "version_minor": 0
      },
      "text/plain": [
       "HBox(children=(Label(value='Image Width (Pixels):'), IntSlider(value=50, max=500, min=50)))"
      ]
     },
     "metadata": {},
     "output_type": "display_data"
    },
    {
     "data": {
      "application/vnd.jupyter.widget-view+json": {
       "model_id": "85c5cdb7531b4171b7d055f302ae30df",
       "version_major": 2,
       "version_minor": 0
      },
      "text/plain": [
       "HBox(children=(Label(value='Image Height (Pixels):'), IntSlider(value=50, max=500, min=50)))"
      ]
     },
     "metadata": {},
     "output_type": "display_data"
    },
    {
     "data": {
      "application/vnd.jupyter.widget-view+json": {
       "model_id": "b9cdb46717374e438bb71d446e2c38a3",
       "version_major": 2,
       "version_minor": 0
      },
      "text/plain": [
       "HBox(children=(Label(value='Camera Size (X):'), IntSlider(value=15, max=20, min=15)))"
      ]
     },
     "metadata": {},
     "output_type": "display_data"
    },
    {
     "data": {
      "application/vnd.jupyter.widget-view+json": {
       "model_id": "e3c2dd09b0eb4db5bb2461f6aefb19e1",
       "version_major": 2,
       "version_minor": 0
      },
      "text/plain": [
       "HBox(children=(Label(value='Camera Size (Y):'), IntSlider(value=15, max=20, min=15)))"
      ]
     },
     "metadata": {},
     "output_type": "display_data"
    },
    {
     "data": {
      "application/vnd.jupyter.widget-view+json": {
       "model_id": "34c47c4ac21b462e83e5fb34a4dc653e",
       "version_major": 2,
       "version_minor": 0
      },
      "text/plain": [
       "HBox(children=(Label(value='Frequency (x $10^{10}$) Hz:'), IntSlider(value=10, max=30, min=10)))"
      ]
     },
     "metadata": {},
     "output_type": "display_data"
    }
   ],
   "source": [
    "inclination = IntSlider(min=0,max=180,step=1) \n",
    "inclination_box = HBox([Label('Inclination (Deg):'), inclination])\n",
    "\n",
    "image_width = IntSlider(min=50,max=500,step=1)\n",
    "image_width_box = HBox([Label('Image Width (Pixels):'), image_width])\n",
    "\n",
    "image_height = IntSlider(min=50,max=500,step=1)\n",
    "image_height_box = HBox([Label('Image Height (Pixels):'), image_height])\n",
    "\n",
    "cam_x = IntSlider(min=15,max=20,step=1)\n",
    "cam_x_box = HBox([Label('Camera Size (X):'), cam_x])\n",
    "\n",
    "cam_y = IntSlider(min=15,max=20,step=1)\n",
    "cam_y_box = HBox([Label('Camera Size (Y):'), cam_y])\n",
    "\n",
    "Frequency = IntSlider(min=10,max=30,step=1)\n",
    "Frequency_box = HBox([Label('Frequency (x $10^{10}$) Hz:'), Frequency])\n",
    "\n",
    "display(inclination_box)\n",
    "display(image_width_box)\n",
    "display(image_height_box)\n",
    "display(cam_x_box)\n",
    "display(cam_y_box)\n",
    "display(Frequency_box)"
   ]
  },
  {
   "cell_type": "code",
   "execution_count": 3,
   "id": "e14418fb-5227-4a9a-a650-db7de973ac8e",
   "metadata": {
    "tags": []
   },
   "outputs": [],
   "source": [
    "MBH=6.2e9\n",
    "DISTANCE = 3945 #kpc\n",
    "M_UNIT=2.739e25\n",
    "R_LOW=1\n",
    "R_HIGH=1\n",
    "\n",
    "INCLINATION = inclination.value\n",
    "IMG_WIDTH = image_width.value\n",
    "IMG_HEIGHT = image_height.value\n",
    "CAM_SIZE_X = cam_x.value\n",
    "CAM_SIZE_Y = cam_y.value\n",
    "FREQS_PER_DEC=1\n",
    "FREQ_MIN = Frequency.value*1.e10\n",
    "STEPSIZE = 0.05\n",
    "MAX_LEVEL = 1\n",
    "#Writing the model.in file \n",
    "f = open('model.in','r')\n",
    "text = f.readlines()\n",
    "f.close()\n",
    "text[0] = 'MBH\\t\\t(Msun)\\t\\t%.15e\\n'%(MBH)\n",
    "text[1] = 'MBH\\t\\t(kpc)\\t\\t%.15e\\n'%(DISTANCE)\n",
    "text[2] = 'M_UNIT\\t\\t(g)\\t\\t%.15e\\n'%(M_UNIT)\n",
    "text[3] = 'Rhigh\\t\\t(-)\\t\\t%d\\n'%(R_LOW)\n",
    "text[4] = 'Rlow\\t\\t(-)\\t\\t%d\\n'%(R_HIGH)\n",
    "\n",
    "text[5] = 'INCLINATION\\t(deg)\\t%d\\n'%(INCLINATION)\n",
    "text[6] = 'IMG_WIDTH\\t(pixels)\\t%d\\n'%(IMG_WIDTH)\n",
    "text[7] = 'IMG_HEIGHT\\t(pixels)\\t%d\\n'%(IMG_HEIGHT)\n",
    "text[8] = 'CAM_SIZE_X\\t(Rg)\\t\\t%.15e\\n'%(CAM_SIZE_X)\n",
    "text[9] = 'CAM_SIZE_Y\\t(Rg)\\t\\t%.15e\\n'%(CAM_SIZE_Y)\n",
    "text[10] = 'FREQS_PER_DEC\\t(-)\\t\\t%d\\n'%(FREQS_PER_DEC)\n",
    "text[11] = 'FREQ_MIN\\t(Hz)\\t\\t%.15e\\n'%(FREQ_MIN)\n",
    "text[12] = 'STEPSIZE\\t(-)\\t\\t%.15e\\n'%(STEPSIZE)\n",
    "text[13] = 'MAX_LEVEL\\t(-)\\t\\t%d\\n'%(MAX_LEVEL)\n",
    "f = open('model.in','w')\n",
    "f.writelines(text)\n",
    "f.close()"
   ]
  },
  {
   "cell_type": "code",
   "execution_count": 23,
   "id": "b21c7d4a",
   "metadata": {
    "tags": []
   },
   "outputs": [
    {
     "name": "stdout",
     "output_type": "stream",
     "text": [
      "\n",
      "Using model parameter file model.in\n"
     ]
    },
    {
     "name": "stderr",
     "output_type": "stream",
     "text": [
      "__________    _____ _____________________________ __________\n",
      "\\______   \\  /  _  \\\\______   \\__    ___/\\_____  \\\\______   \\\n",
      " |       _/ /  /_\\  \\|     ___/ |    |    /   |   \\|       _/\n",
      " |    |   \\/    |    \\    |     |    |   /    |    \\    |   \\\n",
      " |____|_  /\\____|__  /____|     |____|   \\_______  /____|_  /\n",
      "        \\/         \\/                            \\/       \\/  \n",
      "\n",
      "Running RAPTOR v1.0 in unpolarized mode!\n",
      "\n",
      "Initializing...\n",
      "\n",
      "Model parameters:\n",
      "\n",
      "MBH \t\t= 6.2e+09 Msun\n",
      "DISTANCE \t= 3945 kpc\n",
      "M_UNIT \t\t= 2.739e+25 grams\n",
      "R_LOW \t\t= 1 \n",
      "R_HIGH \t\t= 1 \n",
      "INCLINATION \t= 160 deg\n",
      "METRIC \t\t= MKS BHAC\n",
      "\n",
      "Observer parameters:\n",
      "\n",
      "IMG_WIDTH \t= 136 \n",
      "IMG_HEIGHT \t= 137 \n",
      "CAM_SIZE_X \t= 20 GM/c2\n",
      "CAM_SIZE_Y \t= 20 GM/c2\n",
      "FREQS_PER_DEC \t= 1 \n",
      "FREQ_MIN \t= 2.3e+11 Hz\n",
      "STEPSIZE \t= 0.05 \n",
      "\n",
      "Starting read in of BHAC GRMHD data...\n",
      "\n",
      "Successfully opened bhac_data/data0202.dat. \n",
      "\n",
      "Reading...Done\n",
      "\n",
      "Number of frequencies to compute: 1\n",
      "freq = +2.300000000000000e+11\n",
      "\n",
      "Starting ray tracing\n",
      "\n",
      "block 0 of total 169\n",
      "block 10 of total 169\n",
      "block 20 of total 169\n",
      "block 30 of total 169\n",
      "block 40 of total 169\n",
      "block 50 of total 169\n",
      "block 60 of total 169\n",
      "block 70 of total 169\n",
      "block 80 of total 169\n",
      "block 90 of total 169\n",
      "block 100 of total 169\n",
      "block 110 of total 169\n",
      "block 120 of total 169\n",
      "block 130 of total 169\n",
      "block 140 of total 169\n",
      "block 150 of total 169\n",
      "block 160 of total 169\n",
      "\n",
      "Ray tracing done!\n",
      "\n",
      "Frequency 2.30000e+11 Hz Integrated flux density = 1.42302e-02 Jy\n",
      "Frequency 2.30000e+11 Hz Bol Luminosity = 6.09584e+37 ergs/s\n",
      "\n",
      "That's all folks!\n"
     ]
    }
   ],
   "source": [
    "%%bash\n",
    "./RAPTOR model.in bhac_data/data0202.dat 10"
   ]
  },
  {
   "cell_type": "code",
   "execution_count": 9,
   "id": "752d39ad-0acb-4e6b-96ce-cb8a5eeb2a1c",
   "metadata": {
    "tags": []
   },
   "outputs": [
    {
     "name": "stdout",
     "output_type": "stream",
     "text": [
      "Reading keys from:  output/img_data_10.h5\n",
      "['I2.300000e+11', 'alpha', 'beta']\n",
      "Reading in:  output/img_data_10.h5\n"
     ]
    }
   ],
   "source": [
    "import rapplot\n",
    "\n",
    "M=6.5e9 * rapplot.MSUN\n",
    "d=16800 * rapplot.KPC\n",
    "\n",
    "rg = (rapplot.G*M/rapplot.SPEED_OF_LIGHT**2.)\n",
    "\n",
    "mas = (rg/d)* rapplot.MAS_IN_DEG\n",
    "\n",
    "Tunit =rg/rapplot.SPEED_OF_LIGHT\n",
    "\n",
    "halfrange=200 #in rg\n",
    "\n",
    "ind = rapplot.read_data_id('output',10)\n",
    "min,max,image = rapplot.read_data('output',10,ind)\n",
    "plt.figure(figsize=(6,5),dpi=250,facecolor='w')\n",
    "fig, ax = plt.subplots(1,1,figsize=(6,5))\n",
    "#p = rapplot.plot_data_stokes(image,min,max,0,ind,fig,ax)\n",
    "\n",
    "ax.set_xlabel(r\"x [mas]\")\n",
    "ax.set_ylabel(r\"y [mas]\")\n",
    "\n",
    "plt.tight_layout()\n",
    "Path(\"figures/\").mkdir(parents=True, exist_ok=True)\n",
    "#p.show()"
   ]
  },
  {
   "cell_type": "code",
   "execution_count": null,
   "id": "3f3251c9-de60-4ce8-a02a-79e421e65c63",
   "metadata": {},
   "outputs": [],
   "source": []
  },
  {
   "cell_type": "code",
   "execution_count": null,
   "id": "428483d8-94c8-453b-bbae-60496d685035",
   "metadata": {},
   "outputs": [],
   "source": []
  }
 ],
 "metadata": {
  "celltoolbar": "Edit Metadata",
  "kernelspec": {
   "display_name": "Python 3",
   "language": "python",
   "name": "python3"
  },
  "language_info": {
   "codemirror_mode": {
    "name": "ipython",
    "version": 3
   },
   "file_extension": ".py",
   "mimetype": "text/x-python",
   "name": "python",
   "nbconvert_exporter": "python",
   "pygments_lexer": "ipython3",
   "version": "3.6.8"
  }
 },
 "nbformat": 4,
 "nbformat_minor": 5
}
