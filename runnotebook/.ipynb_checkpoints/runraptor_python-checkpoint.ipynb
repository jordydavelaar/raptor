{
 "cells": [
  {
   "cell_type": "code",
   "execution_count": 1,
   "id": "76ecf8fd",
   "metadata": {},
   "outputs": [],
   "source": [
    "import math\n",
    "import numpy as np\n",
    "import matplotlib.pyplot as plt\n",
    "import emoji\n",
    "from ipywidgets import Layout, interact, IntSlider,Label, HBox\n",
    "import ipywidgets as widgets\n",
    "import os\n",
    "import sys\n",
    "import h5py\n",
    "from pathlib import Path\n",
    "%matplotlib inline"
   ]
  },
  {
   "cell_type": "code",
   "execution_count": 2,
   "id": "4a029966",
   "metadata": {},
   "outputs": [
    {
     "data": {
      "application/vnd.jupyter.widget-view+json": {
       "model_id": "521925ad8d7248af9dd31d8a5b844e55",
       "version_major": 2,
       "version_minor": 0
      },
      "text/plain": [
       "HBox(children=(Label(value='Inclination (Deg):'), IntSlider(value=0, max=180)))"
      ]
     },
     "metadata": {},
     "output_type": "display_data"
    },
    {
     "data": {
      "application/vnd.jupyter.widget-view+json": {
       "model_id": "3243428cc1064e02aec0c1b708308270",
       "version_major": 2,
       "version_minor": 0
      },
      "text/plain": [
       "HBox(children=(Label(value='Image Width (Pixels):'), IntSlider(value=50, max=500, min=50)))"
      ]
     },
     "metadata": {},
     "output_type": "display_data"
    },
    {
     "data": {
      "application/vnd.jupyter.widget-view+json": {
       "model_id": "d3c8185a472540ed9fd14ef2fa5f64ea",
       "version_major": 2,
       "version_minor": 0
      },
      "text/plain": [
       "HBox(children=(Label(value='Image Height (Pixels):'), IntSlider(value=50, max=500, min=50)))"
      ]
     },
     "metadata": {},
     "output_type": "display_data"
    },
    {
     "data": {
      "application/vnd.jupyter.widget-view+json": {
       "model_id": "0938fa8adc73489bb0de08980bbee069",
       "version_major": 2,
       "version_minor": 0
      },
      "text/plain": [
       "HBox(children=(Label(value='Camera Size (X):'), IntSlider(value=15, max=20, min=15)))"
      ]
     },
     "metadata": {},
     "output_type": "display_data"
    },
    {
     "data": {
      "application/vnd.jupyter.widget-view+json": {
       "model_id": "9a2444f858c24ea39a50d898398d8757",
       "version_major": 2,
       "version_minor": 0
      },
      "text/plain": [
       "HBox(children=(Label(value='Camera Size (Y):'), IntSlider(value=15, max=20, min=15)))"
      ]
     },
     "metadata": {},
     "output_type": "display_data"
    },
    {
     "data": {
      "application/vnd.jupyter.widget-view+json": {
       "model_id": "1f50e07e976b4005b29ba98515dcebd5",
       "version_major": 2,
       "version_minor": 0
      },
      "text/plain": [
       "HBox(children=(Label(value='Frequency (x $10^{10}$) Hz:'), IntSlider(value=10, max=30, min=10)))"
      ]
     },
     "metadata": {},
     "output_type": "display_data"
    }
   ],
   "source": [
    "inclination = IntSlider(min=0,max=180,step=1) \n",
    "inclination_box = HBox([Label('Inclination (Deg):'), inclination])\n",
    "\n",
    "image_width = IntSlider(min=50,max=500,step=1)\n",
    "image_width_box = HBox([Label('Image Width (Pixels):'), image_width])\n",
    "\n",
    "image_height = IntSlider(min=50,max=500,step=1)\n",
    "image_height_box = HBox([Label('Image Height (Pixels):'), image_height])\n",
    "\n",
    "cam_x = IntSlider(min=15,max=20,step=1)\n",
    "cam_x_box = HBox([Label('Camera Size (X):'), cam_x])\n",
    "\n",
    "cam_y = IntSlider(min=15,max=20,step=1)\n",
    "cam_y_box = HBox([Label('Camera Size (Y):'), cam_y])\n",
    "\n",
    "Frequency = IntSlider(min=10,max=30,step=1)\n",
    "Frequency_box = HBox([Label('Frequency (x $10^{10}$) Hz:'), Frequency])\n",
    "\n",
    "display(inclination_box)\n",
    "display(image_width_box)\n",
    "display(image_height_box)\n",
    "display(cam_x_box)\n",
    "display(cam_y_box)\n",
    "display(Frequency_box)"
   ]
  },
  {
   "cell_type": "code",
   "execution_count": 3,
   "id": "db99f49f",
   "metadata": {},
   "outputs": [],
   "source": [
    "MBH=6.2e9\n",
    "DISTANCE = 3945 #kpc\n",
    "M_UNIT=2.739e25\n",
    "R_LOW=1\n",
    "R_HIGH=1\n",
    "\n",
    "INCLINATION = inclination.value\n",
    "IMG_WIDTH = image_width.value\n",
    "IMG_HEIGHT = image_height.value\n",
    "CAM_SIZE_X = cam_x.value\n",
    "CAM_SIZE_Y = cam_y.value\n",
    "FREQS_PER_DEC=1\n",
    "FREQ_MIN = Frequency.value*1.e10\n",
    "STEPSIZE = 0.05\n",
    "MAX_LEVEL = 1\n",
    "#Writing the model.in file \n",
    "f = open('model.in','r')\n",
    "text = f.readlines()\n",
    "f.close()\n",
    "text[0] = 'MBH\\t\\t(Msun)\\t\\t%.15e\\n'%(MBH)\n",
    "text[1] = 'MBH\\t\\t(kpc)\\t\\t%.15e\\n'%(DISTANCE)\n",
    "text[2] = 'M_UNIT\\t\\t(g)\\t\\t%.15e\\n'%(M_UNIT)\n",
    "text[3] = 'Rhigh\\t\\t(-)\\t\\t%d\\n'%(R_LOW)\n",
    "text[4] = 'Rlow\\t\\t(-)\\t\\t%d\\n'%(R_HIGH)\n",
    "\n",
    "text[5] = 'INCLINATION\\t(deg)\\t%d\\n'%(INCLINATION)\n",
    "text[6] = 'IMG_WIDTH\\t(pixels)\\t%d\\n'%(IMG_WIDTH)\n",
    "text[7] = 'IMG_HEIGHT\\t(pixels)\\t%d\\n'%(IMG_HEIGHT)\n",
    "text[8] = 'CAM_SIZE_X\\t(Rg)\\t\\t%.15e\\n'%(CAM_SIZE_X)\n",
    "text[9] = 'CAM_SIZE_Y\\t(Rg)\\t\\t%.15e\\n'%(CAM_SIZE_Y)\n",
    "text[10] = 'FREQS_PER_DEC\\t(-)\\t\\t%d\\n'%(FREQS_PER_DEC)\n",
    "text[11] = 'FREQ_MIN\\t(Hz)\\t\\t%.15e\\n'%(FREQ_MIN)\n",
    "text[12] = 'STEPSIZE\\t(-)\\t\\t%.15e\\n'%(STEPSIZE)\n",
    "text[13] = 'MAX_LEVEL\\t(-)\\t\\t%d\\n'%(MAX_LEVEL)\n",
    "f = open('model.in','w')\n",
    "f.writelines(text)\n",
    "f.close()"
   ]
  },
  {
   "cell_type": "code",
   "execution_count": 4,
   "id": "8cd78818",
   "metadata": {},
   "outputs": [
    {
     "name": "stdout",
     "output_type": "stream",
     "text": [
      "\n",
      "Using model parameter file model.in\n"
     ]
    },
    {
     "name": "stderr",
     "output_type": "stream",
     "text": [
      "__________    _____ _____________________________ __________\n",
      "\\______   \\  /  _  \\\\______   \\__    ___/\\_____  \\\\______   \\\n",
      " |       _/ /  /_\\  \\|     ___/ |    |    /   |   \\|       _/\n",
      " |    |   \\/    |    \\    |     |    |   /    |    \\    |   \\\n",
      " |____|_  /\\____|__  /____|     |____|   \\_______  /____|_  /\n",
      "        \\/         \\/                            \\/       \\/  \n",
      "\n",
      "Running RAPTOR v1.0 in polarized mode!\n",
      "\n",
      "Initializing...\n",
      "\n",
      "Model parameters:\n",
      "\n",
      "MBH \t\t= 6.2e+09 Msun\n",
      "DISTANCE \t= 3945 kpc\n",
      "M_UNIT \t\t= 2.739e+25 grams\n",
      "R_LOW \t\t= 1 \n",
      "R_HIGH \t\t= 1 \n",
      "INCLINATION \t= 137 deg\n",
      "METRIC \t\t= MKS BHAC\n",
      "\n",
      "Observer parameters:\n",
      "\n",
      "IMG_WIDTH \t= 200 \n",
      "IMG_HEIGHT \t= 200 \n",
      "CAM_SIZE_X \t= 20 GM/c2\n",
      "CAM_SIZE_Y \t= 20 GM/c2\n",
      "FREQS_PER_DEC \t= 1.000000 \n",
      "FREQ_MIN \t= 2.3e+11 Hz\n",
      "STEPSIZE \t= 0.05 \n",
      "\n",
      "Starting read in of BHAC GRMHD data...\n",
      "\n",
      "Successfully opened data2000.dat. \n",
      "\n",
      "Reading...Done\n",
      "\n",
      "Number of frequencies to compute: 1\n",
      "freq = +2.300000000000000e+11\n",
      "\n",
      "Starting ray tracing\n",
      "\n",
      "block 0 of total 400\n",
      "block 25 of total 400\n",
      "block 50 of total 400\n",
      "block 75 of total 400\n",
      "block 100 of total 400\n",
      "block 125 of total 400\n",
      "block 150 of total 400\n",
      "block 175 of total 400\n",
      "block 200 of total 400\n",
      "block 225 of total 400\n",
      "block 250 of total 400\n",
      "block 275 of total 400\n",
      "block 300 of total 400\n",
      "block 325 of total 400\n",
      "block 350 of total 400\n",
      "block 375 of total 400\n",
      "\n",
      "Ray tracing done!\n",
      "\n",
      "Frequency 2.30000e+11 Hz Integrated flux density = 8.55281e+00 Jy\n",
      "Frequency 2.30000e+11 Hz Bol Luminosity = 3.66380e+40 ergs/s\n",
      "\n",
      "That's all folks!\n"
     ]
    }
   ],
   "source": [
    "%%bash\n",
    "./RAPTOR model.in data2000.dat 10"
   ]
  },
  {
   "cell_type": "code",
   "execution_count": 5,
   "id": "8f4e495e-9804-4a4c-90cd-bd3a9459b982",
   "metadata": {},
   "outputs": [
    {
     "name": "stdout",
     "output_type": "stream",
     "text": [
      "Reading keys from:  output/img_data_10.h5\n",
      "['I2.300000e+11', 'Q2.300000e+11', 'U2.300000e+11', 'V2.300000e+11', 'alpha', 'beta', 'tau2.300000e+11', 'tauF2.300000e+11']\n",
      "Reading in:  output/img_data_10.h5\n",
      "8\n",
      "figures/img_10.png\n"
     ]
    },
    {
     "name": "stderr",
     "output_type": "stream",
     "text": [
      "findfont: Font family ['normal'] not found. Falling back to DejaVu Sans.\n",
      "findfont: Font family ['normal'] not found. Falling back to DejaVu Sans.\n"
     ]
    }
   ],
   "source": [
    "%%bash\n",
    "python3 plotter-example.py 10"
   ]
  },
  {
   "cell_type": "code",
   "execution_count": null,
   "id": "0c3d46d3",
   "metadata": {},
   "outputs": [],
   "source": [
    "import rapplot\n",
    "\n",
    "M=6.5e9 * rapplot.MSUN\n",
    "d=16800 * rapplot.KPC\n",
    "\n",
    "rg = (rapplot.G*M/rapplot.SPEED_OF_LIGHT**2.)\n",
    "\n",
    "mas = (rg/d)* rapplot.MAS_IN_DEG\n",
    "\n",
    "Tunit =rg/rapplot.SPEED_OF_LIGHT\n",
    "\n",
    "halfrange=200 #in rg\n",
    "\n",
    "ind = rapplot.read_data_id('output',10)\n",
    "min,max,image = rapplot.read_data('output',10,ind)\n",
    "plt.figure(figsize=(6,5),dpi=250,facecolor='w')\n",
    "fig, ax = plt.subplots(1,1,figsize=(6,5))\n",
    "p = rapplot.plot_data_stokes(image,min,max,0,ind,fig,ax)\n",
    "\n",
    "ax.set_xlabel(r\"x [mas]\")\n",
    "ax.set_ylabel(r\"y [mas]\")\n",
    "\n",
    "plt.tight_layout()\n",
    "Path(\"figures/\").mkdir(parents=True, exist_ok=True)\n",
    "plt.show()"
   ]
  }
 ],
 "metadata": {
  "kernelspec": {
   "display_name": "Python 3",
   "language": "python",
   "name": "python3"
  },
  "language_info": {
   "codemirror_mode": {
    "name": "ipython",
    "version": 3
   },
   "file_extension": ".py",
   "mimetype": "text/x-python",
   "name": "python",
   "nbconvert_exporter": "python",
   "pygments_lexer": "ipython3",
   "version": "3.6.8"
  }
 },
 "nbformat": 4,
 "nbformat_minor": 5
}
